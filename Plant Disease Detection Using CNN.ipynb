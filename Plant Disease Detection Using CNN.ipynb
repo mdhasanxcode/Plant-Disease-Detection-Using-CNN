{
 "cells": [
  {
   "cell_type": "markdown",
   "metadata": {},
   "source": [
    "## Import Libraries"
   ]
  },
  {
   "cell_type": "markdown",
   "metadata": {},
   "source": [
    "### Dependency building"
   ]
  },
  {
   "cell_type": "code",
   "execution_count": 19,
   "metadata": {},
   "outputs": [
    {
     "name": "stdout",
     "output_type": "stream",
     "text": [
      "Requirement already satisfied: numpy in c:\\users\\senpai\\appdata\\local\\programs\\python\\python312\\lib\\site-packages (1.26.4)\n",
      "Requirement already satisfied: pandas in c:\\users\\senpai\\appdata\\local\\programs\\python\\python312\\lib\\site-packages (2.2.3)\n",
      "Requirement already satisfied: matplotlib in c:\\users\\senpai\\appdata\\local\\programs\\python\\python312\\lib\\site-packages (3.9.1)\n",
      "Collecting torch\n",
      "  Downloading torch-2.5.0-cp312-cp312-win_amd64.whl.metadata (28 kB)\n",
      "Collecting torchvision\n",
      "  Downloading torchvision-0.20.0-cp312-cp312-win_amd64.whl.metadata (6.2 kB)\n",
      "Requirement already satisfied: pillow in c:\\users\\senpai\\appdata\\local\\programs\\python\\python312\\lib\\site-packages (10.4.0)\n",
      "Collecting torchsummary\n",
      "  Downloading torchsummary-1.5.1-py3-none-any.whl.metadata (296 bytes)\n",
      "Requirement already satisfied: python-dateutil>=2.8.2 in c:\\users\\senpai\\appdata\\local\\programs\\python\\python312\\lib\\site-packages (from pandas) (2.9.0.post0)\n",
      "Requirement already satisfied: pytz>=2020.1 in c:\\users\\senpai\\appdata\\local\\programs\\python\\python312\\lib\\site-packages (from pandas) (2024.2)\n",
      "Requirement already satisfied: tzdata>=2022.7 in c:\\users\\senpai\\appdata\\local\\programs\\python\\python312\\lib\\site-packages (from pandas) (2024.2)\n",
      "Requirement already satisfied: contourpy>=1.0.1 in c:\\users\\senpai\\appdata\\local\\programs\\python\\python312\\lib\\site-packages (from matplotlib) (1.2.1)\n",
      "Requirement already satisfied: cycler>=0.10 in c:\\users\\senpai\\appdata\\local\\programs\\python\\python312\\lib\\site-packages (from matplotlib) (0.12.1)\n",
      "Requirement already satisfied: fonttools>=4.22.0 in c:\\users\\senpai\\appdata\\local\\programs\\python\\python312\\lib\\site-packages (from matplotlib) (4.53.1)\n",
      "Requirement already satisfied: kiwisolver>=1.3.1 in c:\\users\\senpai\\appdata\\local\\programs\\python\\python312\\lib\\site-packages (from matplotlib) (1.4.5)\n",
      "Requirement already satisfied: packaging>=20.0 in c:\\users\\senpai\\appdata\\local\\programs\\python\\python312\\lib\\site-packages (from matplotlib) (24.1)\n",
      "Requirement already satisfied: pyparsing>=2.3.1 in c:\\users\\senpai\\appdata\\local\\programs\\python\\python312\\lib\\site-packages (from matplotlib) (3.1.2)\n",
      "Collecting filelock (from torch)\n",
      "  Downloading filelock-3.16.1-py3-none-any.whl.metadata (2.9 kB)\n",
      "Requirement already satisfied: typing-extensions>=4.8.0 in c:\\users\\senpai\\appdata\\local\\programs\\python\\python312\\lib\\site-packages (from torch) (4.12.2)\n",
      "Requirement already satisfied: networkx in c:\\users\\senpai\\appdata\\local\\programs\\python\\python312\\lib\\site-packages (from torch) (3.3)\n",
      "Requirement already satisfied: jinja2 in c:\\users\\senpai\\appdata\\local\\programs\\python\\python312\\lib\\site-packages (from torch) (3.1.4)\n",
      "Collecting fsspec (from torch)\n",
      "  Downloading fsspec-2024.10.0-py3-none-any.whl.metadata (11 kB)\n",
      "Requirement already satisfied: setuptools in c:\\users\\senpai\\appdata\\local\\programs\\python\\python312\\lib\\site-packages (from torch) (72.1.0)\n",
      "Collecting sympy==1.13.1 (from torch)\n",
      "  Downloading sympy-1.13.1-py3-none-any.whl.metadata (12 kB)\n",
      "Collecting mpmath<1.4,>=1.1.0 (from sympy==1.13.1->torch)\n",
      "  Downloading mpmath-1.3.0-py3-none-any.whl.metadata (8.6 kB)\n",
      "Requirement already satisfied: six>=1.5 in c:\\users\\senpai\\appdata\\local\\programs\\python\\python312\\lib\\site-packages (from python-dateutil>=2.8.2->pandas) (1.16.0)\n",
      "Requirement already satisfied: MarkupSafe>=2.0 in c:\\users\\senpai\\appdata\\local\\programs\\python\\python312\\lib\\site-packages (from jinja2->torch) (3.0.2)\n",
      "Downloading torch-2.5.0-cp312-cp312-win_amd64.whl (203.1 MB)\n",
      "   ---------------------------------------- 0.0/203.1 MB ? eta -:--:--\n",
      "   ---------------------------------------- 2.4/203.1 MB 15.0 MB/s eta 0:00:14\n",
      "   - -------------------------------------- 5.2/203.1 MB 13.9 MB/s eta 0:00:15\n",
      "   - -------------------------------------- 8.1/203.1 MB 14.0 MB/s eta 0:00:14\n",
      "   -- ------------------------------------- 10.7/203.1 MB 13.7 MB/s eta 0:00:15\n",
      "   -- ------------------------------------- 13.1/203.1 MB 13.9 MB/s eta 0:00:14\n",
      "   --- ------------------------------------ 16.5/203.1 MB 13.9 MB/s eta 0:00:14\n",
      "   --- ------------------------------------ 19.4/203.1 MB 13.8 MB/s eta 0:00:14\n",
      "   ---- ----------------------------------- 22.0/203.1 MB 13.8 MB/s eta 0:00:14\n",
      "   ---- ----------------------------------- 24.9/203.1 MB 13.8 MB/s eta 0:00:13\n",
      "   ----- ---------------------------------- 27.5/203.1 MB 13.8 MB/s eta 0:00:13\n",
      "   ------ --------------------------------- 30.7/203.1 MB 13.8 MB/s eta 0:00:13\n",
      "   ------ --------------------------------- 33.6/203.1 MB 13.8 MB/s eta 0:00:13\n",
      "   ------- -------------------------------- 36.2/203.1 MB 13.8 MB/s eta 0:00:13\n",
      "   ------- -------------------------------- 39.1/203.1 MB 13.8 MB/s eta 0:00:12\n",
      "   -------- ------------------------------- 41.9/203.1 MB 13.8 MB/s eta 0:00:12\n",
      "   -------- ------------------------------- 44.8/203.1 MB 13.8 MB/s eta 0:00:12\n",
      "   --------- ------------------------------ 47.7/203.1 MB 13.8 MB/s eta 0:00:12\n",
      "   --------- ------------------------------ 50.6/203.1 MB 13.8 MB/s eta 0:00:12\n",
      "   ---------- ----------------------------- 53.5/203.1 MB 13.8 MB/s eta 0:00:11\n",
      "   ----------- ---------------------------- 56.4/203.1 MB 13.8 MB/s eta 0:00:11\n",
      "   ----------- ---------------------------- 59.2/203.1 MB 13.8 MB/s eta 0:00:11\n",
      "   ------------ --------------------------- 62.1/203.1 MB 13.7 MB/s eta 0:00:11\n",
      "   ------------ --------------------------- 64.7/203.1 MB 13.8 MB/s eta 0:00:11\n",
      "   ------------- -------------------------- 67.6/203.1 MB 13.8 MB/s eta 0:00:10\n",
      "   ------------- -------------------------- 70.0/203.1 MB 13.8 MB/s eta 0:00:10\n",
      "   -------------- ------------------------- 73.1/203.1 MB 13.8 MB/s eta 0:00:10\n",
      "   -------------- ------------------------- 76.0/203.1 MB 13.8 MB/s eta 0:00:10\n",
      "   --------------- ------------------------ 78.9/203.1 MB 13.8 MB/s eta 0:00:10\n",
      "   ---------------- ----------------------- 81.8/203.1 MB 13.8 MB/s eta 0:00:09\n",
      "   ---------------- ----------------------- 84.7/203.1 MB 13.8 MB/s eta 0:00:09\n",
      "   ----------------- ---------------------- 87.6/203.1 MB 13.8 MB/s eta 0:00:09\n",
      "   ----------------- ---------------------- 90.4/203.1 MB 13.8 MB/s eta 0:00:09\n",
      "   ------------------ --------------------- 93.3/203.1 MB 13.8 MB/s eta 0:00:08\n",
      "   ------------------ --------------------- 96.2/203.1 MB 13.8 MB/s eta 0:00:08\n",
      "   ------------------- -------------------- 98.8/203.1 MB 13.8 MB/s eta 0:00:08\n",
      "   ------------------- ------------------- 101.7/203.1 MB 13.8 MB/s eta 0:00:08\n",
      "   -------------------- ------------------ 104.6/203.1 MB 13.8 MB/s eta 0:00:08\n",
      "   -------------------- ------------------ 107.5/203.1 MB 13.8 MB/s eta 0:00:07\n",
      "   --------------------- ----------------- 110.4/203.1 MB 13.8 MB/s eta 0:00:07\n",
      "   --------------------- ----------------- 113.2/203.1 MB 13.8 MB/s eta 0:00:07\n",
      "   ---------------------- ---------------- 115.9/203.1 MB 13.8 MB/s eta 0:00:07\n",
      "   ---------------------- ---------------- 118.8/203.1 MB 13.8 MB/s eta 0:00:07\n",
      "   ----------------------- --------------- 121.6/203.1 MB 13.8 MB/s eta 0:00:06\n",
      "   ----------------------- --------------- 124.3/203.1 MB 13.8 MB/s eta 0:00:06\n",
      "   ------------------------ -------------- 127.1/203.1 MB 13.8 MB/s eta 0:00:06\n",
      "   ------------------------ -------------- 129.8/203.1 MB 13.8 MB/s eta 0:00:06\n",
      "   ------------------------- ------------- 132.6/203.1 MB 13.8 MB/s eta 0:00:06\n",
      "   -------------------------- ------------ 135.5/203.1 MB 13.8 MB/s eta 0:00:05\n",
      "   -------------------------- ------------ 138.1/203.1 MB 13.8 MB/s eta 0:00:05\n",
      "   --------------------------- ----------- 141.0/203.1 MB 13.8 MB/s eta 0:00:05\n",
      "   --------------------------- ----------- 143.7/203.1 MB 13.8 MB/s eta 0:00:05\n",
      "   ---------------------------- ---------- 146.5/203.1 MB 13.8 MB/s eta 0:00:05\n",
      "   ---------------------------- ---------- 149.4/203.1 MB 13.8 MB/s eta 0:00:04\n",
      "   ----------------------------- --------- 152.0/203.1 MB 13.8 MB/s eta 0:00:04\n",
      "   ----------------------------- --------- 154.9/203.1 MB 13.8 MB/s eta 0:00:04\n",
      "   ------------------------------ -------- 157.5/203.1 MB 13.8 MB/s eta 0:00:04\n",
      "   ------------------------------ -------- 160.4/203.1 MB 13.8 MB/s eta 0:00:04\n",
      "   ------------------------------- ------- 163.3/203.1 MB 13.8 MB/s eta 0:00:03\n",
      "   ------------------------------- ------- 165.9/203.1 MB 13.8 MB/s eta 0:00:03\n",
      "   -------------------------------- ------ 168.8/203.1 MB 13.8 MB/s eta 0:00:03\n",
      "   -------------------------------- ------ 171.7/203.1 MB 13.8 MB/s eta 0:00:03\n",
      "   --------------------------------- ----- 174.3/203.1 MB 13.8 MB/s eta 0:00:03\n",
      "   ---------------------------------- ---- 177.2/203.1 MB 13.8 MB/s eta 0:00:02\n",
      "   ---------------------------------- ---- 179.8/203.1 MB 13.8 MB/s eta 0:00:02\n",
      "   ----------------------------------- --- 182.7/203.1 MB 13.8 MB/s eta 0:00:02\n",
      "   ----------------------------------- --- 185.3/203.1 MB 13.8 MB/s eta 0:00:02\n",
      "   ------------------------------------ -- 188.2/203.1 MB 13.8 MB/s eta 0:00:02\n",
      "   ------------------------------------ -- 191.1/203.1 MB 13.8 MB/s eta 0:00:01\n",
      "   ------------------------------------- - 193.7/203.1 MB 13.8 MB/s eta 0:00:01\n",
      "   ------------------------------------- - 196.6/203.1 MB 13.8 MB/s eta 0:00:01\n",
      "   --------------------------------------  199.5/203.1 MB 13.8 MB/s eta 0:00:01\n",
      "   --------------------------------------  202.1/203.1 MB 13.8 MB/s eta 0:00:01\n",
      "   --------------------------------------  202.9/203.1 MB 13.8 MB/s eta 0:00:01\n",
      "   --------------------------------------  202.9/203.1 MB 13.8 MB/s eta 0:00:01\n",
      "   --------------------------------------  202.9/203.1 MB 13.8 MB/s eta 0:00:01\n",
      "   --------------------------------------- 203.1/203.1 MB 13.2 MB/s eta 0:00:00\n",
      "Downloading sympy-1.13.1-py3-none-any.whl (6.2 MB)\n",
      "   ---------------------------------------- 0.0/6.2 MB ? eta -:--:--\n",
      "   ---------------- ----------------------- 2.6/6.2 MB 13.8 MB/s eta 0:00:01\n",
      "   ----------------------------------- ---- 5.5/6.2 MB 13.4 MB/s eta 0:00:01\n",
      "   ---------------------------------------- 6.2/6.2 MB 12.7 MB/s eta 0:00:00\n",
      "Downloading torchvision-0.20.0-cp312-cp312-win_amd64.whl (1.6 MB)\n",
      "   ---------------------------------------- 0.0/1.6 MB ? eta -:--:--\n",
      "   ---------------------------------------- 1.6/1.6 MB 13.9 MB/s eta 0:00:00\n",
      "Downloading torchsummary-1.5.1-py3-none-any.whl (2.8 kB)\n",
      "Downloading filelock-3.16.1-py3-none-any.whl (16 kB)\n",
      "Downloading fsspec-2024.10.0-py3-none-any.whl (179 kB)\n",
      "Downloading mpmath-1.3.0-py3-none-any.whl (536 kB)\n",
      "   ---------------------------------------- 0.0/536.2 kB ? eta -:--:--\n",
      "   ---------------------------------------- 536.2/536.2 kB 8.6 MB/s eta 0:00:00\n",
      "Installing collected packages: torchsummary, mpmath, sympy, fsspec, filelock, torch, torchvision\n",
      "Successfully installed filelock-3.16.1 fsspec-2024.10.0 mpmath-1.3.0 sympy-1.13.1 torch-2.5.0 torchsummary-1.5.1 torchvision-0.20.0\n",
      "Note: you may need to restart the kernel to use updated packages.\n"
     ]
    }
   ],
   "source": [
    "pip install numpy pandas matplotlib torch torchvision pillow torchsummary"
   ]
  },
  {
   "cell_type": "code",
   "execution_count": 5,
   "metadata": {},
   "outputs": [],
   "source": [
    "# for working with files\n",
    "import os\n",
    "\n",
    "import numpy as np \n",
    "import pandas as pd\n",
    "import matplotlib.pyplot as plt\n",
    "import torch\n",
    "\n",
    "# for calculating loss\n",
    "import torch.nn.functional as F\n",
    "\n",
    "import torch.nn as nn\n",
    "import torchvision.transforms as transforms\n",
    "\n",
    "# for dataloaders\n",
    "from torch.utils.data import DataLoader \n",
    "# for checking images\n",
    "from PIL import Image\n",
    "# for data checking\n",
    "from torchvision.utils import make_grid\n",
    "# for working with classes and images\n",
    "from torchvision.datasets import ImageFolder\n",
    "# for getting the summary of our model\n",
    "from torchsummary import summary\n",
    "\n",
    "# plot directly in notebook\n",
    "%matplotlib inline"
   ]
  },
  {
   "cell_type": "markdown",
   "metadata": {},
   "source": [
    "## Data Preprocessing"
   ]
  },
  {
   "cell_type": "markdown",
   "metadata": {},
   "source": [
    "### Data Directories"
   ]
  },
  {
   "cell_type": "code",
   "execution_count": 9,
   "metadata": {},
   "outputs": [
    {
     "ename": "FileNotFoundError",
     "evalue": "[WinError 3] The system cannot find the path specified: 'Plant-Disease-Detection-Using-CNN/Data/train'",
     "output_type": "error",
     "traceback": [
      "\u001b[1;31m---------------------------------------------------------------------------\u001b[0m",
      "\u001b[1;31mFileNotFoundError\u001b[0m                         Traceback (most recent call last)",
      "Cell \u001b[1;32mIn[9], line 4\u001b[0m\n\u001b[0;32m      2\u001b[0m train_dir \u001b[38;5;241m=\u001b[39m data_dir \u001b[38;5;241m+\u001b[39m \u001b[38;5;124m\"\u001b[39m\u001b[38;5;124m/train\u001b[39m\u001b[38;5;124m\"\u001b[39m\n\u001b[0;32m      3\u001b[0m valid_dir \u001b[38;5;241m=\u001b[39m data_dir \u001b[38;5;241m+\u001b[39m \u001b[38;5;124m\"\u001b[39m\u001b[38;5;124m/valid\u001b[39m\u001b[38;5;124m\"\u001b[39m\n\u001b[1;32m----> 4\u001b[0m diseases \u001b[38;5;241m=\u001b[39m \u001b[43mos\u001b[49m\u001b[38;5;241;43m.\u001b[39;49m\u001b[43mlistdir\u001b[49m\u001b[43m(\u001b[49m\u001b[43mtrain_dir\u001b[49m\u001b[43m)\u001b[49m\n",
      "\u001b[1;31mFileNotFoundError\u001b[0m: [WinError 3] The system cannot find the path specified: 'Plant-Disease-Detection-Using-CNN/Data/train'"
     ]
    }
   ],
   "source": [
    "data_dir = \"Plant-Disease-Detection-Using-CNN/Data\"\n",
    "train_dir = data_dir + \"/train\"\n",
    "valid_dir = data_dir + \"/valid\"\n",
    "diseases = os.listdir(train_dir)"
   ]
  },
  {
   "cell_type": "markdown",
   "metadata": {},
   "source": [
    "### Explore the data"
   ]
  },
  {
   "cell_type": "code",
   "execution_count": 28,
   "metadata": {},
   "outputs": [
    {
     "name": "stdout",
     "output_type": "stream",
     "text": [
      "Total Categories (Diseases): 38 \n",
      "Diseases: ['Apple___Apple_scab', 'Apple___Black_rot', 'Apple___Cedar_apple_rust', 'Apple___healthy', 'Blueberry___healthy', 'Cherry_(including_sour)___healthy', 'Cherry_(including_sour)___Powdery_mildew', 'Corn_(maize)___Cercospora_leaf_spot Gray_leaf_spot', 'Corn_(maize)___Common_rust_', 'Corn_(maize)___healthy', 'Corn_(maize)___Northern_Leaf_Blight', 'Grape___Black_rot', 'Grape___Esca_(Black_Measles)', 'Grape___healthy', 'Grape___Leaf_blight_(Isariopsis_Leaf_Spot)', 'Orange___Haunglongbing_(Citrus_greening)', 'Peach___Bacterial_spot', 'Peach___healthy', 'Pepper,_bell___Bacterial_spot', 'Pepper,_bell___healthy', 'Potato___Early_blight', 'Potato___healthy', 'Potato___Late_blight', 'Raspberry___healthy', 'Soybean___healthy', 'Squash___Powdery_mildew', 'Strawberry___healthy', 'Strawberry___Leaf_scorch', 'Tomato___Bacterial_spot', 'Tomato___Early_blight', 'Tomato___healthy', 'Tomato___Late_blight', 'Tomato___Leaf_Mold', 'Tomato___Septoria_leaf_spot', 'Tomato___Spider_mites Two-spotted_spider_mite', 'Tomato___Target_Spot', 'Tomato___Tomato_mosaic_virus', 'Tomato___Tomato_Yellow_Leaf_Curl_Virus']\n"
     ]
    }
   ],
   "source": [
    "# All the diseases (Categories)\n",
    "print(f\"Total Categories (Diseases): {len(diseases)} \\nDiseases: {diseases}\")"
   ]
  },
  {
   "cell_type": "code",
   "execution_count": 1,
   "metadata": {},
   "outputs": [
    {
     "ename": "NameError",
     "evalue": "name 'diseases' is not defined",
     "output_type": "error",
     "traceback": [
      "\u001b[1;31m---------------------------------------------------------------------------\u001b[0m",
      "\u001b[1;31mNameError\u001b[0m                                 Traceback (most recent call last)",
      "Cell \u001b[1;32mIn[1], line 4\u001b[0m\n\u001b[0;32m      1\u001b[0m unique_plants \u001b[38;5;241m=\u001b[39m []\n\u001b[0;32m      2\u001b[0m no_of_diseases \u001b[38;5;241m=\u001b[39m \u001b[38;5;241m0\u001b[39m\n\u001b[1;32m----> 4\u001b[0m \u001b[38;5;28;01mfor\u001b[39;00m plant \u001b[38;5;129;01min\u001b[39;00m \u001b[43mdiseases\u001b[49m:\n\u001b[0;32m      5\u001b[0m     \u001b[38;5;28;01mif\u001b[39;00m plant\u001b[38;5;241m.\u001b[39msplit(\u001b[38;5;124m'\u001b[39m\u001b[38;5;124m___\u001b[39m\u001b[38;5;124m'\u001b[39m)[\u001b[38;5;241m0\u001b[39m] \u001b[38;5;129;01mnot\u001b[39;00m \u001b[38;5;129;01min\u001b[39;00m unique_plants:\n\u001b[0;32m      6\u001b[0m         unique_plants\u001b[38;5;241m.\u001b[39mappend(plant\u001b[38;5;241m.\u001b[39msplit(\u001b[38;5;124m'\u001b[39m\u001b[38;5;124m___\u001b[39m\u001b[38;5;124m'\u001b[39m)[\u001b[38;5;241m0\u001b[39m])\n",
      "\u001b[1;31mNameError\u001b[0m: name 'diseases' is not defined"
     ]
    }
   ],
   "source": [
    "unique_plants = []\n",
    "no_of_diseases = 0\n",
    "\n",
    "for plant in diseases:\n",
    "    if plant.split('___')[0] not in unique_plants:\n",
    "        unique_plants.append(plant.split('___')[0])\n",
    "    if plant.split('___')[1] != 'healthy':\n",
    "        no_of_diseases += 1"
   ]
  },
  {
   "cell_type": "code",
   "execution_count": null,
   "metadata": {},
   "outputs": [],
   "source": [
    "# unique plants in the dataset\n",
    "print(f\"Unique Plants are: \\n{plants}\")"
   ]
  },
  {
   "cell_type": "markdown",
   "metadata": {},
   "source": [
    "### Load validation Data"
   ]
  }
 ],
 "metadata": {
  "kernelspec": {
   "display_name": "Python 3",
   "language": "python",
   "name": "python3"
  },
  "language_info": {
   "codemirror_mode": {
    "name": "ipython",
    "version": 3
   },
   "file_extension": ".py",
   "mimetype": "text/x-python",
   "name": "python",
   "nbconvert_exporter": "python",
   "pygments_lexer": "ipython3",
   "version": "3.12.7"
  }
 },
 "nbformat": 4,
 "nbformat_minor": 2
}
